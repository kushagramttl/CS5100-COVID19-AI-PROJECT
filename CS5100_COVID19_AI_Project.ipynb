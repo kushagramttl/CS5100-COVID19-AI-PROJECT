{
  "nbformat": 4,
  "nbformat_minor": 0,
  "metadata": {
    "colab": {
      "name": "CS5100-COVID19-AI-Project.ipynb",
      "provenance": [],
      "collapsed_sections": [],
      "toc_visible": true,
      "authorship_tag": "ABX9TyOWnesQbP3Z5EeX/RHMWT5l",
      "include_colab_link": true
    },
    "kernelspec": {
      "name": "python3",
      "display_name": "Python 3"
    }
  },
  "cells": [
    {
      "cell_type": "markdown",
      "metadata": {
        "id": "view-in-github",
        "colab_type": "text"
      },
      "source": [
        "<a href=\"https://colab.research.google.com/github/rahulpandeycs/CS5100-COVID19-AI-PROJECT/blob/master/CS5100_COVID19_AI_Project.ipynb\" target=\"_parent\"><img src=\"https://colab.research.google.com/assets/colab-badge.svg\" alt=\"Open In Colab\"/></a>"
      ]
    },
    {
      "cell_type": "code",
      "metadata": {
        "id": "Q57l8sEbE3tU",
        "colab_type": "code",
        "colab": {}
      },
      "source": [
        "import numpy as np # linear algebra\n",
        "import pandas as pd # data processing, I/O for CSV files\n",
        "import os\n",
        "import matplotlib.pyplot as plt\n",
        "import matplotlib.ticker as ticker\n",
        "import time\n",
        "import datetime as dt\n",
        "from datetime import date\n",
        "import warnings"
      ],
      "execution_count": 0,
      "outputs": []
    },
    {
      "cell_type": "markdown",
      "metadata": {
        "id": "nFCgG2GyKSmh",
        "colab_type": "text"
      },
      "source": [
        "View the list of input data"
      ]
    },
    {
      "cell_type": "code",
      "metadata": {
        "id": "WtKoTJJ7JvSc",
        "colab_type": "code",
        "colab": {
          "base_uri": "https://localhost:8080/",
          "height": 126
        },
        "outputId": "82d1ef1c-aaeb-4922-8f47-fa8b5307d959"
      },
      "source": [
        "for dirname, _, filenames in os.walk('data/'):\n",
        "    for filename in filenames:\n",
        "        print(os.path.join(dirname, filename))\n",
        "warnings.filterwarnings('ignore')"
      ],
      "execution_count": 13,
      "outputs": [
        {
          "output_type": "stream",
          "text": [
            "data/time_series_covid_19_deaths.csv\n",
            "data/covid_19_data.csv\n",
            "data/time_series_covid_19_confirmed.csv\n",
            "data/time_series_covid_19_recovered.csv\n",
            "data/COVID19_open_line_list.csv\n",
            "data/COVID19_line_list_data.csv\n"
          ],
          "name": "stdout"
        }
      ]
    },
    {
      "cell_type": "code",
      "metadata": {
        "id": "UNxWdAJHKb83",
        "colab_type": "code",
        "colab": {
          "base_uri": "https://localhost:8080/",
          "height": 542
        },
        "outputId": "7d34c245-abe3-4973-b91a-901e7b97aca1"
      },
      "source": [
        "Y2019_dataset_path = 'data/covid_19_data.csv'\n",
        "Y2019_data = pd.read_csv(Y2019_dataset_path)\n",
        "# Y2019_data['Last Update'] = Y2019_data['Last Update'].apply(pd.datetime)\n",
        "Y2019_data['Last Update'] = pd.to_datetime(Y2019_data['Last Update'], format='%m/%d/%Y %H:%M')\n",
        "Y2019_data.drop(['SNo'], axis = 1, inplace = True)\n",
        "Y2019_data.tail()"
      ],
      "execution_count": 36,
      "outputs": [
        {
          "output_type": "error",
          "ename": "ValueError",
          "evalue": "ignored",
          "traceback": [
            "\u001b[0;31m---------------------------------------------------------------------------\u001b[0m",
            "\u001b[0;31mTypeError\u001b[0m                                 Traceback (most recent call last)",
            "\u001b[0;32m/usr/local/lib/python3.6/dist-packages/pandas/core/tools/datetimes.py\u001b[0m in \u001b[0;36m_convert_listlike_datetimes\u001b[0;34m(arg, box, format, name, tz, unit, errors, infer_datetime_format, dayfirst, yearfirst, exact)\u001b[0m\n\u001b[1;32m    447\u001b[0m             \u001b[0;32mtry\u001b[0m\u001b[0;34m:\u001b[0m\u001b[0;34m\u001b[0m\u001b[0;34m\u001b[0m\u001b[0m\n\u001b[0;32m--> 448\u001b[0;31m                 \u001b[0mvalues\u001b[0m\u001b[0;34m,\u001b[0m \u001b[0mtz\u001b[0m \u001b[0;34m=\u001b[0m \u001b[0mconversion\u001b[0m\u001b[0;34m.\u001b[0m\u001b[0mdatetime_to_datetime64\u001b[0m\u001b[0;34m(\u001b[0m\u001b[0marg\u001b[0m\u001b[0;34m)\u001b[0m\u001b[0;34m\u001b[0m\u001b[0;34m\u001b[0m\u001b[0m\n\u001b[0m\u001b[1;32m    449\u001b[0m                 \u001b[0;32mreturn\u001b[0m \u001b[0mDatetimeIndex\u001b[0m\u001b[0;34m.\u001b[0m\u001b[0m_simple_new\u001b[0m\u001b[0;34m(\u001b[0m\u001b[0mvalues\u001b[0m\u001b[0;34m,\u001b[0m \u001b[0mname\u001b[0m\u001b[0;34m=\u001b[0m\u001b[0mname\u001b[0m\u001b[0;34m,\u001b[0m \u001b[0mtz\u001b[0m\u001b[0;34m=\u001b[0m\u001b[0mtz\u001b[0m\u001b[0;34m)\u001b[0m\u001b[0;34m\u001b[0m\u001b[0;34m\u001b[0m\u001b[0m\n",
            "\u001b[0;32mpandas/_libs/tslibs/conversion.pyx\u001b[0m in \u001b[0;36mpandas._libs.tslibs.conversion.datetime_to_datetime64\u001b[0;34m()\u001b[0m\n",
            "\u001b[0;31mTypeError\u001b[0m: Unrecognized value type: <class 'str'>",
            "\nDuring handling of the above exception, another exception occurred:\n",
            "\u001b[0;31mValueError\u001b[0m                                Traceback (most recent call last)",
            "\u001b[0;32m<ipython-input-36-38a2a8604258>\u001b[0m in \u001b[0;36m<module>\u001b[0;34m()\u001b[0m\n\u001b[1;32m      2\u001b[0m \u001b[0mY2019_data\u001b[0m \u001b[0;34m=\u001b[0m \u001b[0mpd\u001b[0m\u001b[0;34m.\u001b[0m\u001b[0mread_csv\u001b[0m\u001b[0;34m(\u001b[0m\u001b[0mY2019_dataset_path\u001b[0m\u001b[0;34m)\u001b[0m\u001b[0;34m\u001b[0m\u001b[0;34m\u001b[0m\u001b[0m\n\u001b[1;32m      3\u001b[0m \u001b[0;31m# Y2019_data['Last Update'] = Y2019_data['Last Update'].apply(pd.datetime)\u001b[0m\u001b[0;34m\u001b[0m\u001b[0;34m\u001b[0m\u001b[0;34m\u001b[0m\u001b[0m\n\u001b[0;32m----> 4\u001b[0;31m \u001b[0mY2019_data\u001b[0m\u001b[0;34m[\u001b[0m\u001b[0;34m'Last Update'\u001b[0m\u001b[0;34m]\u001b[0m \u001b[0;34m=\u001b[0m \u001b[0mpd\u001b[0m\u001b[0;34m.\u001b[0m\u001b[0mto_datetime\u001b[0m\u001b[0;34m(\u001b[0m\u001b[0mY2019_data\u001b[0m\u001b[0;34m[\u001b[0m\u001b[0;34m'Last Update'\u001b[0m\u001b[0;34m]\u001b[0m\u001b[0;34m,\u001b[0m \u001b[0mformat\u001b[0m\u001b[0;34m=\u001b[0m\u001b[0;34m'%m/%d/%Y %H:%M'\u001b[0m\u001b[0;34m)\u001b[0m\u001b[0;34m\u001b[0m\u001b[0;34m\u001b[0m\u001b[0m\n\u001b[0m\u001b[1;32m      5\u001b[0m \u001b[0mY2019_data\u001b[0m\u001b[0;34m.\u001b[0m\u001b[0mdrop\u001b[0m\u001b[0;34m(\u001b[0m\u001b[0;34m[\u001b[0m\u001b[0;34m'SNo'\u001b[0m\u001b[0;34m]\u001b[0m\u001b[0;34m,\u001b[0m \u001b[0maxis\u001b[0m \u001b[0;34m=\u001b[0m \u001b[0;36m1\u001b[0m\u001b[0;34m,\u001b[0m \u001b[0minplace\u001b[0m \u001b[0;34m=\u001b[0m \u001b[0;32mTrue\u001b[0m\u001b[0;34m)\u001b[0m\u001b[0;34m\u001b[0m\u001b[0;34m\u001b[0m\u001b[0m\n\u001b[1;32m      6\u001b[0m \u001b[0mY2019_data\u001b[0m\u001b[0;34m.\u001b[0m\u001b[0mtail\u001b[0m\u001b[0;34m(\u001b[0m\u001b[0;34m)\u001b[0m\u001b[0;34m\u001b[0m\u001b[0;34m\u001b[0m\u001b[0m\n",
            "\u001b[0;32m/usr/local/lib/python3.6/dist-packages/pandas/util/_decorators.py\u001b[0m in \u001b[0;36mwrapper\u001b[0;34m(*args, **kwargs)\u001b[0m\n\u001b[1;32m    206\u001b[0m                 \u001b[0;32melse\u001b[0m\u001b[0;34m:\u001b[0m\u001b[0;34m\u001b[0m\u001b[0;34m\u001b[0m\u001b[0m\n\u001b[1;32m    207\u001b[0m                     \u001b[0mkwargs\u001b[0m\u001b[0;34m[\u001b[0m\u001b[0mnew_arg_name\u001b[0m\u001b[0;34m]\u001b[0m \u001b[0;34m=\u001b[0m \u001b[0mnew_arg_value\u001b[0m\u001b[0;34m\u001b[0m\u001b[0;34m\u001b[0m\u001b[0m\n\u001b[0;32m--> 208\u001b[0;31m             \u001b[0;32mreturn\u001b[0m \u001b[0mfunc\u001b[0m\u001b[0;34m(\u001b[0m\u001b[0;34m*\u001b[0m\u001b[0margs\u001b[0m\u001b[0;34m,\u001b[0m \u001b[0;34m**\u001b[0m\u001b[0mkwargs\u001b[0m\u001b[0;34m)\u001b[0m\u001b[0;34m\u001b[0m\u001b[0;34m\u001b[0m\u001b[0m\n\u001b[0m\u001b[1;32m    209\u001b[0m \u001b[0;34m\u001b[0m\u001b[0m\n\u001b[1;32m    210\u001b[0m         \u001b[0;32mreturn\u001b[0m \u001b[0mwrapper\u001b[0m\u001b[0;34m\u001b[0m\u001b[0;34m\u001b[0m\u001b[0m\n",
            "\u001b[0;32m/usr/local/lib/python3.6/dist-packages/pandas/core/tools/datetimes.py\u001b[0m in \u001b[0;36mto_datetime\u001b[0;34m(arg, errors, dayfirst, yearfirst, utc, box, format, exact, unit, infer_datetime_format, origin, cache)\u001b[0m\n\u001b[1;32m    772\u001b[0m                 \u001b[0mresult\u001b[0m \u001b[0;34m=\u001b[0m \u001b[0mresult\u001b[0m\u001b[0;34m.\u001b[0m\u001b[0mtz_localize\u001b[0m\u001b[0;34m(\u001b[0m\u001b[0mtz\u001b[0m\u001b[0;34m)\u001b[0m\u001b[0;34m\u001b[0m\u001b[0;34m\u001b[0m\u001b[0m\n\u001b[1;32m    773\u001b[0m     \u001b[0;32melif\u001b[0m \u001b[0misinstance\u001b[0m\u001b[0;34m(\u001b[0m\u001b[0marg\u001b[0m\u001b[0;34m,\u001b[0m \u001b[0mABCSeries\u001b[0m\u001b[0;34m)\u001b[0m\u001b[0;34m:\u001b[0m\u001b[0;34m\u001b[0m\u001b[0;34m\u001b[0m\u001b[0m\n\u001b[0;32m--> 774\u001b[0;31m         \u001b[0mcache_array\u001b[0m \u001b[0;34m=\u001b[0m \u001b[0m_maybe_cache\u001b[0m\u001b[0;34m(\u001b[0m\u001b[0marg\u001b[0m\u001b[0;34m,\u001b[0m \u001b[0mformat\u001b[0m\u001b[0;34m,\u001b[0m \u001b[0mcache\u001b[0m\u001b[0;34m,\u001b[0m \u001b[0mconvert_listlike\u001b[0m\u001b[0;34m)\u001b[0m\u001b[0;34m\u001b[0m\u001b[0;34m\u001b[0m\u001b[0m\n\u001b[0m\u001b[1;32m    775\u001b[0m         \u001b[0;32mif\u001b[0m \u001b[0;32mnot\u001b[0m \u001b[0mcache_array\u001b[0m\u001b[0;34m.\u001b[0m\u001b[0mempty\u001b[0m\u001b[0;34m:\u001b[0m\u001b[0;34m\u001b[0m\u001b[0;34m\u001b[0m\u001b[0m\n\u001b[1;32m    776\u001b[0m             \u001b[0mresult\u001b[0m \u001b[0;34m=\u001b[0m \u001b[0marg\u001b[0m\u001b[0;34m.\u001b[0m\u001b[0mmap\u001b[0m\u001b[0;34m(\u001b[0m\u001b[0mcache_array\u001b[0m\u001b[0;34m)\u001b[0m\u001b[0;34m\u001b[0m\u001b[0;34m\u001b[0m\u001b[0m\n",
            "\u001b[0;32m/usr/local/lib/python3.6/dist-packages/pandas/core/tools/datetimes.py\u001b[0m in \u001b[0;36m_maybe_cache\u001b[0;34m(arg, format, cache, convert_listlike)\u001b[0m\n\u001b[1;32m    154\u001b[0m         \u001b[0munique_dates\u001b[0m \u001b[0;34m=\u001b[0m \u001b[0munique\u001b[0m\u001b[0;34m(\u001b[0m\u001b[0marg\u001b[0m\u001b[0;34m)\u001b[0m\u001b[0;34m\u001b[0m\u001b[0;34m\u001b[0m\u001b[0m\n\u001b[1;32m    155\u001b[0m         \u001b[0;32mif\u001b[0m \u001b[0mlen\u001b[0m\u001b[0;34m(\u001b[0m\u001b[0munique_dates\u001b[0m\u001b[0;34m)\u001b[0m \u001b[0;34m<\u001b[0m \u001b[0mlen\u001b[0m\u001b[0;34m(\u001b[0m\u001b[0marg\u001b[0m\u001b[0;34m)\u001b[0m\u001b[0;34m:\u001b[0m\u001b[0;34m\u001b[0m\u001b[0;34m\u001b[0m\u001b[0m\n\u001b[0;32m--> 156\u001b[0;31m             \u001b[0mcache_dates\u001b[0m \u001b[0;34m=\u001b[0m \u001b[0mconvert_listlike\u001b[0m\u001b[0;34m(\u001b[0m\u001b[0munique_dates\u001b[0m\u001b[0;34m,\u001b[0m \u001b[0;32mTrue\u001b[0m\u001b[0;34m,\u001b[0m \u001b[0mformat\u001b[0m\u001b[0;34m)\u001b[0m\u001b[0;34m\u001b[0m\u001b[0;34m\u001b[0m\u001b[0m\n\u001b[0m\u001b[1;32m    157\u001b[0m             \u001b[0mcache_array\u001b[0m \u001b[0;34m=\u001b[0m \u001b[0mSeries\u001b[0m\u001b[0;34m(\u001b[0m\u001b[0mcache_dates\u001b[0m\u001b[0;34m,\u001b[0m \u001b[0mindex\u001b[0m\u001b[0;34m=\u001b[0m\u001b[0munique_dates\u001b[0m\u001b[0;34m)\u001b[0m\u001b[0;34m\u001b[0m\u001b[0;34m\u001b[0m\u001b[0m\n\u001b[1;32m    158\u001b[0m     \u001b[0;32mreturn\u001b[0m \u001b[0mcache_array\u001b[0m\u001b[0;34m\u001b[0m\u001b[0;34m\u001b[0m\u001b[0m\n",
            "\u001b[0;32m/usr/local/lib/python3.6/dist-packages/pandas/core/tools/datetimes.py\u001b[0m in \u001b[0;36m_convert_listlike_datetimes\u001b[0;34m(arg, box, format, name, tz, unit, errors, infer_datetime_format, dayfirst, yearfirst, exact)\u001b[0m\n\u001b[1;32m    449\u001b[0m                 \u001b[0;32mreturn\u001b[0m \u001b[0mDatetimeIndex\u001b[0m\u001b[0;34m.\u001b[0m\u001b[0m_simple_new\u001b[0m\u001b[0;34m(\u001b[0m\u001b[0mvalues\u001b[0m\u001b[0;34m,\u001b[0m \u001b[0mname\u001b[0m\u001b[0;34m=\u001b[0m\u001b[0mname\u001b[0m\u001b[0;34m,\u001b[0m \u001b[0mtz\u001b[0m\u001b[0;34m=\u001b[0m\u001b[0mtz\u001b[0m\u001b[0;34m)\u001b[0m\u001b[0;34m\u001b[0m\u001b[0;34m\u001b[0m\u001b[0m\n\u001b[1;32m    450\u001b[0m             \u001b[0;32mexcept\u001b[0m \u001b[0;34m(\u001b[0m\u001b[0mValueError\u001b[0m\u001b[0;34m,\u001b[0m \u001b[0mTypeError\u001b[0m\u001b[0;34m)\u001b[0m\u001b[0;34m:\u001b[0m\u001b[0;34m\u001b[0m\u001b[0;34m\u001b[0m\u001b[0m\n\u001b[0;32m--> 451\u001b[0;31m                 \u001b[0;32mraise\u001b[0m \u001b[0me\u001b[0m\u001b[0;34m\u001b[0m\u001b[0;34m\u001b[0m\u001b[0m\n\u001b[0m\u001b[1;32m    452\u001b[0m \u001b[0;34m\u001b[0m\u001b[0m\n\u001b[1;32m    453\u001b[0m     \u001b[0;32mif\u001b[0m \u001b[0mresult\u001b[0m \u001b[0;32mis\u001b[0m \u001b[0;32mNone\u001b[0m\u001b[0;34m:\u001b[0m\u001b[0;34m\u001b[0m\u001b[0;34m\u001b[0m\u001b[0m\n",
            "\u001b[0;32m/usr/local/lib/python3.6/dist-packages/pandas/core/tools/datetimes.py\u001b[0m in \u001b[0;36m_convert_listlike_datetimes\u001b[0;34m(arg, box, format, name, tz, unit, errors, infer_datetime_format, dayfirst, yearfirst, exact)\u001b[0m\n\u001b[1;32m    414\u001b[0m                 \u001b[0;32mtry\u001b[0m\u001b[0;34m:\u001b[0m\u001b[0;34m\u001b[0m\u001b[0;34m\u001b[0m\u001b[0m\n\u001b[1;32m    415\u001b[0m                     result, timezones = array_strptime(\n\u001b[0;32m--> 416\u001b[0;31m                         \u001b[0marg\u001b[0m\u001b[0;34m,\u001b[0m \u001b[0mformat\u001b[0m\u001b[0;34m,\u001b[0m \u001b[0mexact\u001b[0m\u001b[0;34m=\u001b[0m\u001b[0mexact\u001b[0m\u001b[0;34m,\u001b[0m \u001b[0merrors\u001b[0m\u001b[0;34m=\u001b[0m\u001b[0merrors\u001b[0m\u001b[0;34m\u001b[0m\u001b[0;34m\u001b[0m\u001b[0m\n\u001b[0m\u001b[1;32m    417\u001b[0m                     )\n\u001b[1;32m    418\u001b[0m                     \u001b[0;32mif\u001b[0m \u001b[0;34m\"%Z\"\u001b[0m \u001b[0;32min\u001b[0m \u001b[0mformat\u001b[0m \u001b[0;32mor\u001b[0m \u001b[0;34m\"%z\"\u001b[0m \u001b[0;32min\u001b[0m \u001b[0mformat\u001b[0m\u001b[0;34m:\u001b[0m\u001b[0;34m\u001b[0m\u001b[0;34m\u001b[0m\u001b[0m\n",
            "\u001b[0;32mpandas/_libs/tslibs/strptime.pyx\u001b[0m in \u001b[0;36mpandas._libs.tslibs.strptime.array_strptime\u001b[0;34m()\u001b[0m\n",
            "\u001b[0;31mValueError\u001b[0m: time data '1/23/20 17:00' does not match format '%m/%d/%Y %H:%M' (match)"
          ]
        }
      ]
    },
    {
      "cell_type": "code",
      "metadata": {
        "id": "PtruEVLAR2dn",
        "colab_type": "code",
        "colab": {
          "base_uri": "https://localhost:8080/",
          "height": 92
        },
        "outputId": "cf66ef22-a7b1-4121-9cce-974bffd1e07d"
      },
      "source": [
        "listOfCountries = Y2019_data['Country/Region'].unique().tolist()\n",
        "print(\"\\n Number of countries affected by COVID-19 virus: \", len(listOfCountries))\n",
        "print(listOfCountries)"
      ],
      "execution_count": 24,
      "outputs": [
        {
          "output_type": "stream",
          "text": [
            "\n",
            " Number of countries affected by COVID-19 virus:  212\n",
            "['Mainland China', 'Hong Kong', 'Macau', 'Taiwan', 'US', 'Japan', 'Thailand', 'South Korea', 'Singapore', 'Philippines', 'Malaysia', 'Vietnam', 'Australia', 'Mexico', 'Brazil', 'Colombia', 'France', 'Nepal', 'Canada', 'Cambodia', 'Sri Lanka', 'Ivory Coast', 'Germany', 'Finland', 'United Arab Emirates', 'India', 'Italy', 'UK', 'Russia', 'Sweden', 'Spain', 'Belgium', 'Others', 'Egypt', 'Iran', 'Israel', 'Lebanon', 'Iraq', 'Oman', 'Afghanistan', 'Bahrain', 'Kuwait', 'Austria', 'Algeria', 'Croatia', 'Switzerland', 'Pakistan', 'Georgia', 'Greece', 'North Macedonia', 'Norway', 'Romania', 'Denmark', 'Estonia', 'Netherlands', 'San Marino', ' Azerbaijan', 'Belarus', 'Iceland', 'Lithuania', 'New Zealand', 'Nigeria', 'North Ireland', 'Ireland', 'Luxembourg', 'Monaco', 'Qatar', 'Ecuador', 'Azerbaijan', 'Czech Republic', 'Armenia', 'Dominican Republic', 'Indonesia', 'Portugal', 'Andorra', 'Latvia', 'Morocco', 'Saudi Arabia', 'Senegal', 'Argentina', 'Chile', 'Jordan', 'Ukraine', 'Saint Barthelemy', 'Hungary', 'Faroe Islands', 'Gibraltar', 'Liechtenstein', 'Poland', 'Tunisia', 'Palestine', 'Bosnia and Herzegovina', 'Slovenia', 'South Africa', 'Bhutan', 'Cameroon', 'Costa Rica', 'Peru', 'Serbia', 'Slovakia', 'Togo', 'Vatican City', 'French Guiana', 'Malta', 'Martinique', 'Republic of Ireland', 'Bulgaria', 'Maldives', 'Bangladesh', 'Moldova', 'Paraguay', 'Albania', 'Cyprus', 'St. Martin', 'Brunei', 'occupied Palestinian territory', \"('St. Martin',)\", 'Burkina Faso', 'Channel Islands', 'Holy See', 'Mongolia', 'Panama', 'Bolivia', 'Honduras', 'Congo (Kinshasa)', 'Jamaica', 'Reunion', 'Turkey', 'Cuba', 'Guyana', 'Kazakhstan', 'Cayman Islands', 'Guadeloupe', 'Ethiopia', 'Sudan', 'Guinea', 'Antigua and Barbuda', 'Aruba', 'Kenya', 'Uruguay', 'Ghana', 'Jersey', 'Namibia', 'Seychelles', 'Trinidad and Tobago', 'Venezuela', 'Curacao', 'Eswatini', 'Gabon', 'Guatemala', 'Guernsey', 'Mauritania', 'Rwanda', 'Saint Lucia', 'Saint Vincent and the Grenadines', 'Suriname', 'Kosovo', 'Central African Republic', 'Congo (Brazzaville)', 'Equatorial Guinea', 'Uzbekistan', 'Guam', 'Puerto Rico', 'Benin', 'Greenland', 'Liberia', 'Mayotte', 'Republic of the Congo', 'Somalia', 'Tanzania', 'The Bahamas', 'Barbados', 'Montenegro', 'The Gambia', 'Kyrgyzstan', 'Mauritius', 'Zambia', 'Djibouti', 'Gambia, The', 'Bahamas, The', 'Chad', 'El Salvador', 'Fiji', 'Nicaragua', 'Madagascar', 'Haiti', 'Angola', 'Cabo Verde', 'Niger', 'Papua New Guinea', 'Zimbabwe', 'Cape Verde', 'East Timor', 'Eritrea', 'Uganda', 'Bahamas', 'Dominica', 'Gambia', 'Grenada', 'Mozambique', 'Syria', 'Timor-Leste', 'Belize', 'Laos', 'Libya', 'Diamond Princess', 'Guinea-Bissau', 'Mali', 'Saint Kitts and Nevis', 'West Bank and Gaza', 'Burma', 'MS Zaandam']\n"
          ],
          "name": "stdout"
        }
      ]
    },
    {
      "cell_type": "code",
      "metadata": {
        "id": "LC3hUxWiTPor",
        "colab_type": "code",
        "colab": {
          "base_uri": "https://localhost:8080/",
          "height": 206
        },
        "outputId": "454fc97e-b7f1-464f-db4f-e735b01d4c81"
      },
      "source": [
        "Y2019_China = Y2019_data.loc[Y2019_data['Country/Region'] == 'Mainland China']\n",
        "Y2019_data.tail()"
      ],
      "execution_count": 25,
      "outputs": [
        {
          "output_type": "execute_result",
          "data": {
            "text/html": [
              "<div>\n",
              "<style scoped>\n",
              "    .dataframe tbody tr th:only-of-type {\n",
              "        vertical-align: middle;\n",
              "    }\n",
              "\n",
              "    .dataframe tbody tr th {\n",
              "        vertical-align: top;\n",
              "    }\n",
              "\n",
              "    .dataframe thead th {\n",
              "        text-align: right;\n",
              "    }\n",
              "</style>\n",
              "<table border=\"1\" class=\"dataframe\">\n",
              "  <thead>\n",
              "    <tr style=\"text-align: right;\">\n",
              "      <th></th>\n",
              "      <th>ObservationDate</th>\n",
              "      <th>Province/State</th>\n",
              "      <th>Country/Region</th>\n",
              "      <th>Last Update</th>\n",
              "      <th>Confirmed</th>\n",
              "      <th>Deaths</th>\n",
              "      <th>Recovered</th>\n",
              "    </tr>\n",
              "  </thead>\n",
              "  <tbody>\n",
              "    <tr>\n",
              "      <th>9730</th>\n",
              "      <td>03/28/2020</td>\n",
              "      <td>Wyoming</td>\n",
              "      <td>US</td>\n",
              "      <td>2020-03-28 23:11:06</td>\n",
              "      <td>82.0</td>\n",
              "      <td>0.0</td>\n",
              "      <td>0.0</td>\n",
              "    </tr>\n",
              "    <tr>\n",
              "      <th>9731</th>\n",
              "      <td>03/28/2020</td>\n",
              "      <td>Xinjiang</td>\n",
              "      <td>Mainland China</td>\n",
              "      <td>2020-03-28 23:11:06</td>\n",
              "      <td>76.0</td>\n",
              "      <td>3.0</td>\n",
              "      <td>73.0</td>\n",
              "    </tr>\n",
              "    <tr>\n",
              "      <th>9732</th>\n",
              "      <td>03/28/2020</td>\n",
              "      <td>Yukon</td>\n",
              "      <td>Canada</td>\n",
              "      <td>2020-03-28 23:11:06</td>\n",
              "      <td>4.0</td>\n",
              "      <td>0.0</td>\n",
              "      <td>0.0</td>\n",
              "    </tr>\n",
              "    <tr>\n",
              "      <th>9733</th>\n",
              "      <td>03/28/2020</td>\n",
              "      <td>Yunnan</td>\n",
              "      <td>Mainland China</td>\n",
              "      <td>2020-03-28 23:11:06</td>\n",
              "      <td>180.0</td>\n",
              "      <td>2.0</td>\n",
              "      <td>172.0</td>\n",
              "    </tr>\n",
              "    <tr>\n",
              "      <th>9734</th>\n",
              "      <td>03/28/2020</td>\n",
              "      <td>Zhejiang</td>\n",
              "      <td>Mainland China</td>\n",
              "      <td>2020-03-28 23:11:06</td>\n",
              "      <td>1251.0</td>\n",
              "      <td>1.0</td>\n",
              "      <td>1225.0</td>\n",
              "    </tr>\n",
              "  </tbody>\n",
              "</table>\n",
              "</div>"
            ],
            "text/plain": [
              "     ObservationDate Province/State  ... Deaths Recovered\n",
              "9730      03/28/2020        Wyoming  ...    0.0       0.0\n",
              "9731      03/28/2020       Xinjiang  ...    3.0      73.0\n",
              "9732      03/28/2020          Yukon  ...    0.0       0.0\n",
              "9733      03/28/2020         Yunnan  ...    2.0     172.0\n",
              "9734      03/28/2020       Zhejiang  ...    1.0    1225.0\n",
              "\n",
              "[5 rows x 7 columns]"
            ]
          },
          "metadata": {
            "tags": []
          },
          "execution_count": 25
        }
      ]
    },
    {
      "cell_type": "code",
      "metadata": {
        "id": "0TzUB_gnZWl6",
        "colab_type": "code",
        "colab": {
          "base_uri": "https://localhost:8080/",
          "height": 206
        },
        "outputId": "0d214529-69c2-4eb2-bdbe-1e294e28d79c"
      },
      "source": [
        "Y2019_data_new = Y2019_data[Y2019_data['Last Update'] > '2/15/2020 12:00']\n",
        "Y2019_data.head()"
      ],
      "execution_count": 43,
      "outputs": [
        {
          "output_type": "execute_result",
          "data": {
            "text/html": [
              "<div>\n",
              "<style scoped>\n",
              "    .dataframe tbody tr th:only-of-type {\n",
              "        vertical-align: middle;\n",
              "    }\n",
              "\n",
              "    .dataframe tbody tr th {\n",
              "        vertical-align: top;\n",
              "    }\n",
              "\n",
              "    .dataframe thead th {\n",
              "        text-align: right;\n",
              "    }\n",
              "</style>\n",
              "<table border=\"1\" class=\"dataframe\">\n",
              "  <thead>\n",
              "    <tr style=\"text-align: right;\">\n",
              "      <th></th>\n",
              "      <th>SNo</th>\n",
              "      <th>ObservationDate</th>\n",
              "      <th>Province/State</th>\n",
              "      <th>Country/Region</th>\n",
              "      <th>Last Update</th>\n",
              "      <th>Confirmed</th>\n",
              "      <th>Deaths</th>\n",
              "      <th>Recovered</th>\n",
              "    </tr>\n",
              "  </thead>\n",
              "  <tbody>\n",
              "    <tr>\n",
              "      <th>0</th>\n",
              "      <td>1</td>\n",
              "      <td>01/22/2020</td>\n",
              "      <td>Anhui</td>\n",
              "      <td>Mainland China</td>\n",
              "      <td>1/22/2020 17:00</td>\n",
              "      <td>1.0</td>\n",
              "      <td>0.0</td>\n",
              "      <td>0.0</td>\n",
              "    </tr>\n",
              "    <tr>\n",
              "      <th>1</th>\n",
              "      <td>2</td>\n",
              "      <td>01/22/2020</td>\n",
              "      <td>Beijing</td>\n",
              "      <td>Mainland China</td>\n",
              "      <td>1/22/2020 17:00</td>\n",
              "      <td>14.0</td>\n",
              "      <td>0.0</td>\n",
              "      <td>0.0</td>\n",
              "    </tr>\n",
              "    <tr>\n",
              "      <th>2</th>\n",
              "      <td>3</td>\n",
              "      <td>01/22/2020</td>\n",
              "      <td>Chongqing</td>\n",
              "      <td>Mainland China</td>\n",
              "      <td>1/22/2020 17:00</td>\n",
              "      <td>6.0</td>\n",
              "      <td>0.0</td>\n",
              "      <td>0.0</td>\n",
              "    </tr>\n",
              "    <tr>\n",
              "      <th>3</th>\n",
              "      <td>4</td>\n",
              "      <td>01/22/2020</td>\n",
              "      <td>Fujian</td>\n",
              "      <td>Mainland China</td>\n",
              "      <td>1/22/2020 17:00</td>\n",
              "      <td>1.0</td>\n",
              "      <td>0.0</td>\n",
              "      <td>0.0</td>\n",
              "    </tr>\n",
              "    <tr>\n",
              "      <th>4</th>\n",
              "      <td>5</td>\n",
              "      <td>01/22/2020</td>\n",
              "      <td>Gansu</td>\n",
              "      <td>Mainland China</td>\n",
              "      <td>1/22/2020 17:00</td>\n",
              "      <td>0.0</td>\n",
              "      <td>0.0</td>\n",
              "      <td>0.0</td>\n",
              "    </tr>\n",
              "  </tbody>\n",
              "</table>\n",
              "</div>"
            ],
            "text/plain": [
              "   SNo ObservationDate Province/State  ... Confirmed Deaths  Recovered\n",
              "0    1      01/22/2020          Anhui  ...       1.0    0.0        0.0\n",
              "1    2      01/22/2020        Beijing  ...      14.0    0.0        0.0\n",
              "2    3      01/22/2020      Chongqing  ...       6.0    0.0        0.0\n",
              "3    4      01/22/2020         Fujian  ...       1.0    0.0        0.0\n",
              "4    5      01/22/2020          Gansu  ...       0.0    0.0        0.0\n",
              "\n",
              "[5 rows x 8 columns]"
            ]
          },
          "metadata": {
            "tags": []
          },
          "execution_count": 43
        }
      ]
    },
    {
      "cell_type": "code",
      "metadata": {
        "id": "EqveGTEKerU3",
        "colab_type": "code",
        "colab": {
          "base_uri": "https://localhost:8080/",
          "height": 206
        },
        "outputId": "c28d84d0-35c3-46c0-e337-19a31e81accf"
      },
      "source": [
        "dataFrame = pd.DataFrame(Y2019_data_new)\n",
        "dataFrame = dataFrame.loc[dataFrame['Country/Region'] == 'Italy']\n",
        "dataFrame.tail()"
      ],
      "execution_count": 45,
      "outputs": [
        {
          "output_type": "execute_result",
          "data": {
            "text/html": [
              "<div>\n",
              "<style scoped>\n",
              "    .dataframe tbody tr th:only-of-type {\n",
              "        vertical-align: middle;\n",
              "    }\n",
              "\n",
              "    .dataframe tbody tr th {\n",
              "        vertical-align: top;\n",
              "    }\n",
              "\n",
              "    .dataframe thead th {\n",
              "        text-align: right;\n",
              "    }\n",
              "</style>\n",
              "<table border=\"1\" class=\"dataframe\">\n",
              "  <thead>\n",
              "    <tr style=\"text-align: right;\">\n",
              "      <th></th>\n",
              "      <th>SNo</th>\n",
              "      <th>ObservationDate</th>\n",
              "      <th>Province/State</th>\n",
              "      <th>Country/Region</th>\n",
              "      <th>Last Update</th>\n",
              "      <th>Confirmed</th>\n",
              "      <th>Deaths</th>\n",
              "      <th>Recovered</th>\n",
              "    </tr>\n",
              "  </thead>\n",
              "  <tbody>\n",
              "    <tr>\n",
              "      <th>8285</th>\n",
              "      <td>8286</td>\n",
              "      <td>03/24/2020</td>\n",
              "      <td>NaN</td>\n",
              "      <td>Italy</td>\n",
              "      <td>2020-03-24 23:41:50</td>\n",
              "      <td>69176.0</td>\n",
              "      <td>6820.0</td>\n",
              "      <td>8326.0</td>\n",
              "    </tr>\n",
              "    <tr>\n",
              "      <th>8586</th>\n",
              "      <td>8587</td>\n",
              "      <td>03/25/2020</td>\n",
              "      <td>NaN</td>\n",
              "      <td>Italy</td>\n",
              "      <td>2020-03-25 23:37:49</td>\n",
              "      <td>74386.0</td>\n",
              "      <td>7503.0</td>\n",
              "      <td>9362.0</td>\n",
              "    </tr>\n",
              "    <tr>\n",
              "      <th>8888</th>\n",
              "      <td>8889</td>\n",
              "      <td>03/26/2020</td>\n",
              "      <td>NaN</td>\n",
              "      <td>Italy</td>\n",
              "      <td>2020-03-26 23:53:24</td>\n",
              "      <td>80589.0</td>\n",
              "      <td>8215.0</td>\n",
              "      <td>10361.0</td>\n",
              "    </tr>\n",
              "    <tr>\n",
              "      <th>9195</th>\n",
              "      <td>9196</td>\n",
              "      <td>03/27/2020</td>\n",
              "      <td>NaN</td>\n",
              "      <td>Italy</td>\n",
              "      <td>2020-03-27 23:27:48</td>\n",
              "      <td>86498.0</td>\n",
              "      <td>9134.0</td>\n",
              "      <td>10950.0</td>\n",
              "    </tr>\n",
              "    <tr>\n",
              "      <th>9502</th>\n",
              "      <td>9503</td>\n",
              "      <td>03/28/2020</td>\n",
              "      <td>NaN</td>\n",
              "      <td>Italy</td>\n",
              "      <td>2020-03-28 23:11:06</td>\n",
              "      <td>92472.0</td>\n",
              "      <td>10023.0</td>\n",
              "      <td>12384.0</td>\n",
              "    </tr>\n",
              "  </tbody>\n",
              "</table>\n",
              "</div>"
            ],
            "text/plain": [
              "       SNo ObservationDate Province/State  ... Confirmed   Deaths  Recovered\n",
              "8285  8286      03/24/2020            NaN  ...   69176.0   6820.0     8326.0\n",
              "8586  8587      03/25/2020            NaN  ...   74386.0   7503.0     9362.0\n",
              "8888  8889      03/26/2020            NaN  ...   80589.0   8215.0    10361.0\n",
              "9195  9196      03/27/2020            NaN  ...   86498.0   9134.0    10950.0\n",
              "9502  9503      03/28/2020            NaN  ...   92472.0  10023.0    12384.0\n",
              "\n",
              "[5 rows x 8 columns]"
            ]
          },
          "metadata": {
            "tags": []
          },
          "execution_count": 45
        }
      ]
    },
    {
      "cell_type": "code",
      "metadata": {
        "id": "d38RL-VhfIBs",
        "colab_type": "code",
        "colab": {}
      },
      "source": [
        "newConfirmed = [0]\n",
        "newDeaths = [0]\n",
        "newRecovered = [0]\n",
        "for data in range(1, (dataFrame.Confirmed).size): \n",
        "    newConfirmed.append(dataFrame.Confirmed.tolist()[data]-dataFrame.Confirmed.tolist()[data-1])\n",
        "    newDeaths.append(dataFrame.Deaths.tolist()[data]-dataFrame.Deaths.tolist()[data-1])\n",
        "    newRecovered.append(dataFrame.Recovered.tolist()[data]-dataFrame.Recovered.tolist()[data-1])\n"
      ],
      "execution_count": 0,
      "outputs": []
    },
    {
      "cell_type": "markdown",
      "metadata": {
        "id": "BLoAZXUXgcRO",
        "colab_type": "text"
      },
      "source": [
        "Using TensorFlow Backend for prediction of deaths and number of confirmed cases"
      ]
    },
    {
      "cell_type": "code",
      "metadata": {
        "id": "dAbrmQ8WglKl",
        "colab_type": "code",
        "colab": {}
      },
      "source": [
        "from numpy import array\n",
        "from tensorflow.python.keras.models import Sequential\n",
        "from tensorflow.python.keras.layers import LSTM, Dropout, Dense"
      ],
      "execution_count": 0,
      "outputs": []
    },
    {
      "cell_type": "code",
      "metadata": {
        "id": "5MxsByDrg6jv",
        "colab_type": "code",
        "colab": {}
      },
      "source": [
        "def format_sequence(sequence, n_steps):\n",
        "    X, Y = list(), list()\n",
        "    for data in range(len(sequence)):\n",
        "      end_datax = data + n_steps #End of this pattern\n",
        "      if end_datax > len(sequence) - 1:\n",
        "        break  # break if we went beyond the sequence\n",
        "      seqX, seqY = sequence[data: end_datax], sequence[end_datax]\n",
        "      X.append(seqX)\n",
        "      Y.append(seqY)\n",
        "    return array(X), array(Y)    "
      ],
      "execution_count": 0,
      "outputs": []
    },
    {
      "cell_type": "code",
      "metadata": {
        "id": "CLE9t4FMipeb",
        "colab_type": "code",
        "colab": {}
      },
      "source": [
        "unformattedSequence = np.array(newConfirmed)\n",
        "nSteps = 5\n",
        "X, Y = format_sequence(unformattedSequence, nSteps)\n",
        "\n",
        "\n",
        "nFeatures = 1\n",
        "X = X.reshape((X.shape[0], X.shape[1], nFeatures))"
      ],
      "execution_count": 0,
      "outputs": []
    },
    {
      "cell_type": "markdown",
      "metadata": {
        "id": "IJXsKHuSlrlf",
        "colab_type": "text"
      },
      "source": [
        "Define model and adding neural network layers"
      ]
    },
    {
      "cell_type": "code",
      "metadata": {
        "id": "VHNoH7pFlqlk",
        "colab_type": "code",
        "colab": {
          "base_uri": "https://localhost:8080/",
          "height": 435
        },
        "outputId": "5fdda838-50b4-4a81-ef79-3e6370391efe"
      },
      "source": [
        "LSTMModel = Sequential()\n",
        "LSTMModel.add(LSTM(50, activation='relu', return_sequences=True, input_shape = (nSteps, nFeatures)))\n",
        "LSTMModel.add(Dropout(0.1))\n",
        "LSTMModel.add(LSTM(50, activation='relu', return_sequences=True))\n",
        "LSTMModel.add(Dropout(0.1))\n",
        "LSTMModel.add(LSTM(50, activation='relu'))\n",
        "LSTMModel.add(Dense(1))\n",
        "\n",
        "#Added two LSTM layers\n",
        "\n",
        "start = time.time()\n",
        "LSTMModel.compile(optimizer='adam', loss='mse')\n",
        "print('Compilation time :', time.time() - start)\n",
        "print('\\n')\n",
        "LSTMModel.summary()"
      ],
      "execution_count": 66,
      "outputs": [
        {
          "output_type": "stream",
          "text": [
            "Compilation time : 0.01148223876953125\n",
            "\n",
            "\n",
            "Model: \"sequential\"\n",
            "_________________________________________________________________\n",
            "Layer (type)                 Output Shape              Param #   \n",
            "=================================================================\n",
            "lstm (LSTM)                  (None, 5, 50)             10400     \n",
            "_________________________________________________________________\n",
            "dropout (Dropout)            (None, 5, 50)             0         \n",
            "_________________________________________________________________\n",
            "lstm_1 (LSTM)                (None, 5, 50)             20200     \n",
            "_________________________________________________________________\n",
            "dropout_1 (Dropout)          (None, 5, 50)             0         \n",
            "_________________________________________________________________\n",
            "lstm_2 (LSTM)                (None, 50)                20200     \n",
            "_________________________________________________________________\n",
            "dense (Dense)                (None, 1)                 51        \n",
            "=================================================================\n",
            "Total params: 50,851\n",
            "Trainable params: 50,851\n",
            "Non-trainable params: 0\n",
            "_________________________________________________________________\n"
          ],
          "name": "stdout"
        }
      ]
    },
    {
      "cell_type": "code",
      "metadata": {
        "id": "Yj4hslb0oWRY",
        "colab_type": "code",
        "colab": {
          "base_uri": "https://localhost:8080/",
          "height": 53
        },
        "outputId": "76fdd7cb-ec82-44af-c52d-0fcb8a73a2b7"
      },
      "source": [
        "LSTMModel.fit(X,Y, epochs=300, verbose= 0)\n",
        "xInput = np.array(newConfirmed)[-nSteps:]\n",
        "xInput = xInput.reshape((1, nSteps, nFeatures))\n",
        "yHat =LSTMModel.predict(xInput, verbose=0)\n",
        "\n",
        "forecastedCases = int(round(yHat[0][0]))\n",
        "print('Case forecast for today: {}'.format(forecastedCases))\n",
        "\n",
        "accuracy = 100*(1-np.abs(forecastedCases - newConfirmed[-1])/newConfirmed[-1])\n",
        "print('Forecasted accuracy: {:.2f} %'.format(accuracy))"
      ],
      "execution_count": 68,
      "outputs": [
        {
          "output_type": "stream",
          "text": [
            "Case forecast for today: 5184\n",
            "Forecasted accuracy: 86.78 %\n"
          ],
          "name": "stdout"
        }
      ]
    },
    {
      "cell_type": "markdown",
      "metadata": {
        "id": "-W7lanWrp-v_",
        "colab_type": "text"
      },
      "source": [
        "Tomorrow forecast"
      ]
    },
    {
      "cell_type": "code",
      "metadata": {
        "id": "MFZ54w0gqBh5",
        "colab_type": "code",
        "colab": {
          "base_uri": "https://localhost:8080/",
          "height": 53
        },
        "outputId": "ef44db39-be84-4213-bb32-ceb4a1101380"
      },
      "source": [
        "print('and for tomorrow?')\n",
        "x_input2 = np.array(newConfirmed)[(-nSteps+1):]\n",
        "x_input2 = np.concatenate((x_input2, yHat), axis=None)\n",
        "x_input2 = x_input2.reshape((1, nSteps, nFeatures))\n",
        "yhat2 = LSTMModel.predict(x_input2, verbose=0)\n",
        "print('tomorrow there might be {:.0f} cases'.format(int(yhat2[0][0])))"
      ],
      "execution_count": 70,
      "outputs": [
        {
          "output_type": "stream",
          "text": [
            "and for tomorrow?\n",
            "tomorrow there might be 6159 cases\n"
          ],
          "name": "stdout"
        }
      ]
    }
  ]
}